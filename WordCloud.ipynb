{
 "cells": [
  {
   "cell_type": "markdown",
   "id": "303066a8",
   "metadata": {},
   "source": [
    "## Resume Word cloud generator"
   ]
  },
  {
   "cell_type": "markdown",
   "id": "752f12a4",
   "metadata": {},
   "source": [
    "This word cloud generated is a snapshot of a text from a resume. Done to help you explore and understand focus words at a glance. <br/> It is a word image where each word's size is proportional to its occurrence throughout the resume text. The more the word appears in the resume the larger it is in the image."
   ]
  },
  {
   "cell_type": "code",
   "execution_count": null,
   "id": "43ed4323",
   "metadata": {},
   "outputs": [],
   "source": [
    "#!pip install wordcloud ipyplot"
   ]
  },
  {
   "cell_type": "code",
   "execution_count": null,
   "id": "aff42510",
   "metadata": {},
   "outputs": [],
   "source": [
    "import os\n",
    "import uuid\n",
    "import random\n",
    "import ipyplot\n",
    "import matplotlib.pyplot as pPlot\n",
    "from wordcloud import WordCloud, STOPWORDS\n",
    "import numpy as npy\n",
    "from PIL import Image\n",
    "# image configurations\n",
    "background_color = \"#FFFFFF\"\n",
    "height = 720\n",
    "width = 1080"
   ]
  },
  {
   "cell_type": "code",
   "execution_count": null,
   "id": "600ede6f",
   "metadata": {},
   "outputs": [],
   "source": [
    "#Load the dataset with the content\n",
    "#from the combined txt\n",
    "dataset = open(\"resume.txt\", \"r\").read()"
   ]
  },
  {
   "cell_type": "markdown",
   "id": "8723c786",
   "metadata": {},
   "source": [
    "### Use the formatting commands below to manipulate the style of the word clouds"
   ]
  },
  {
   "cell_type": "markdown",
   "id": "74abf255",
   "metadata": {},
   "source": [
    "#Color Sets\n",
    "plot_color_gradients('Perceptually Uniform Sequential',\n",
    "                     ['viridis', 'plasma', 'inferno', 'magma', 'cividis'])\n",
    "\n",
    "plot_color_gradients('Sequential',\n",
    "                     ['Greys', 'Purples', 'Blues', 'Greens', 'Oranges', 'Reds',\n",
    "                      'YlOrBr', 'YlOrRd', 'OrRd', 'PuRd', 'RdPu', 'BuPu',\n",
    "                      'GnBu', 'PuBu', 'YlGnBu', 'PuBuGn', 'BuGn', 'YlGn'])"
   ]
  },
  {
   "cell_type": "code",
   "execution_count": null,
   "id": "85ddfeeb",
   "metadata": {},
   "outputs": [],
   "source": [
    "def create_word_cloud(string):\n",
    "    #maskArray = npy.array(Image.open(\"cloud.png\"))\n",
    "    #cloud = WordCloud(background_color = \"white\", max_words = 200, mask = maskArray, stopwords = set(STOPWORDS))\n",
    "    cloud = WordCloud(background_color = background_color, max_words = 150, margin = 3,  stopwords = set(STOPWORDS),\n",
    "                      width=width,height=height,\n",
    "                      collocations=False,colormap='Reds',\n",
    "                     contour_width=1, contour_color='red')\n",
    "    cloud.generate(string)\n",
    "    cloud.to_file(\"clouds/\"+str(uuid.uuid4())+\".png\")\n",
    "#Remove colormap property for default colors"
   ]
  },
  {
   "cell_type": "code",
   "execution_count": null,
   "id": "14f6eb78",
   "metadata": {},
   "outputs": [],
   "source": [
    "#Create N cloud images\n",
    "N = 5\n",
    "# For this example I have set it to generate 5 couds\n",
    "for x in range(N):\n",
    "    dataset = dataset.upper()\n",
    "    create_word_cloud(dataset)"
   ]
  },
  {
   "cell_type": "code",
   "execution_count": null,
   "id": "24f405bd",
   "metadata": {},
   "outputs": [],
   "source": [
    "#Get all generated word clouds in clouds directory\n",
    "# list to store cloud images for display\n",
    "res = []\n",
    "# Iterate directory\n",
    "for file in os.listdir(\"clouds\"):\n",
    "    # check only text files\n",
    "    if file.endswith('.png'):        \n",
    "                res.append('clouds/'+file)"
   ]
  },
  {
   "cell_type": "code",
   "execution_count": null,
   "id": "a1386c27",
   "metadata": {},
   "outputs": [],
   "source": [
    "ipyplot.plot_images(res, max_images=20, img_width=150)"
   ]
  },
  {
   "cell_type": "code",
   "execution_count": null,
   "id": "960f734f",
   "metadata": {},
   "outputs": [],
   "source": []
  }
 ],
 "metadata": {
  "kernelspec": {
   "display_name": "Python 3",
   "language": "python",
   "name": "python3"
  },
  "language_info": {
   "codemirror_mode": {
    "name": "ipython",
    "version": 3
   },
   "file_extension": ".py",
   "mimetype": "text/x-python",
   "name": "python",
   "nbconvert_exporter": "python",
   "pygments_lexer": "ipython3",
   "version": "3.8.8"
  }
 },
 "nbformat": 4,
 "nbformat_minor": 5
}
